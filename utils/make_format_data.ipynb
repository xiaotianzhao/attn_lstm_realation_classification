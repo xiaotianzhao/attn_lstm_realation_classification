{
 "cells": [
  {
   "cell_type": "code",
   "execution_count": 11,
   "metadata": {},
   "outputs": [],
   "source": [
    "import os\n",
    "import re\n",
    "import codecs\n",
    "import nltk"
   ]
  },
  {
   "cell_type": "code",
   "execution_count": 12,
   "metadata": {},
   "outputs": [],
   "source": [
    "def process(text):\n",
    "    tokenizer = nltk.tokenize.TweetTokenizer()\n",
    "    text = text.lower()\n",
    "    text = re.sub('<e1>', '<e1> ', text)\n",
    "    text = re.sub('<e2>', '<e2> ', text)\n",
    "    text = re.sub('</e1>', ' </e1>', text)\n",
    "    text = re.sub('</e2>', ' </e2>', text)\n",
    "    text = re.sub('\\d+\\.\\d+', 'NUMERICAL', text)\n",
    "    text = re.sub('[a-zA-Z\\.]+\\.com', 'URL', text)\n",
    "    text = re.sub('[a-zA-Z\\.]+\\.org', 'URL', text)\n",
    "    text = ' '.join(tokenizer.tokenize(text))\n",
    "    return text"
   ]
  },
  {
   "cell_type": "code",
   "execution_count": 13,
   "metadata": {},
   "outputs": [],
   "source": [
    "train_file = codecs.open('./SemEval2010_task8_training/TRAIN_FILE.TXT', 'r', encoding='utf8')\n",
    "lines = train_file.readlines()\n",
    "texts = []\n",
    "categories = []\n",
    "\n",
    "for index, line in enumerate(lines):\n",
    "    if '\\t' in line:\n",
    "        line = line.strip()\n",
    "        text = line.split('\\t')[1][1:-1]\n",
    "        text = process(text)\n",
    "        category = lines[index + 1].strip()\n",
    "        texts.append(text)\n",
    "        categories.append(category)\n",
    "\n",
    "assert(len(texts) == 8000)\n",
    "assert(len(categories) == 8000)"
   ]
  },
  {
   "cell_type": "code",
   "execution_count": 14,
   "metadata": {},
   "outputs": [
    {
     "name": "stdout",
     "output_type": "stream",
     "text": [
      "Train Data Size: 7208\n",
      "Valid Data Size: 792\n"
     ]
    }
   ],
   "source": [
    "from sklearn.model_selection import StratifiedKFold\n",
    "sk_fold = StratifiedKFold(n_splits=10, random_state=1229, shuffle=True)\n",
    "train_ids = []\n",
    "valid_ids = []\n",
    "\n",
    "for train_idx, valid_idx in sk_fold.split(texts, categories):\n",
    "    train_ids = train_idx\n",
    "    valid_ids = valid_idx\n",
    "\n",
    "train_texts = []\n",
    "train_categories = []\n",
    "\n",
    "valid_texts = []\n",
    "valid_categories = []\n",
    "\n",
    "for train_id in train_ids:\n",
    "    train_texts.append(texts[train_id])\n",
    "    train_categories.append(categories[train_id])\n",
    "\n",
    "for valid_id in valid_ids:\n",
    "    valid_texts.append(texts[valid_id])\n",
    "    valid_categories.append(categories[valid_id])\n",
    "    \n",
    "print(\"Train Data Size: {}\".format(len(train_texts)))\n",
    "print(\"Valid Data Size: {}\".format(len(valid_texts)))"
   ]
  },
  {
   "cell_type": "code",
   "execution_count": 15,
   "metadata": {},
   "outputs": [],
   "source": [
    "# import random\n",
    "\n",
    "# random.seed(666)\n",
    "# indexs = [i for i in range(len(texts))]\n",
    "# random.shuffle(indexs)\n",
    "# valid_rate = 0.1\n",
    "\n",
    "# valid_ids = indexs[: int(len(texts) * 0.1)]\n",
    "# train_ids = indexs[int(len(texts) * 0.1): ]\n",
    "\n",
    "# train_texts = []\n",
    "# train_categories = []\n",
    "\n",
    "# valid_texts = []\n",
    "# valid_categories = []\n",
    "\n",
    "# for train_id in train_ids:\n",
    "#     train_texts.append(texts[train_id])\n",
    "#     train_categories.append(categories[train_id])\n",
    "\n",
    "# for valid_id in valid_ids:\n",
    "#     valid_texts.append(texts[valid_id])\n",
    "#     valid_categories.append(categories[valid_id])\n",
    "    \n",
    "# print(\"Train Data Size: {}\".format(len(train_texts)))\n",
    "# print(\"Valid Data Size: {}\".format(len(valid_texts)))"
   ]
  },
  {
   "cell_type": "code",
   "execution_count": 16,
   "metadata": {},
   "outputs": [],
   "source": [
    "# from sklearn.model_selection import KFold\n",
    "# sk_fold = KFold(n_splits=10, random_state=666)\n",
    "# train_ids = []\n",
    "# valid_ids = []\n",
    "\n",
    "# for train_idx, valid_idx in sk_fold.split(texts, categories):\n",
    "#     train_ids = train_idx\n",
    "#     valid_ids = valid_idx\n",
    "\n",
    "# train_texts = []\n",
    "# train_categories = []\n",
    "\n",
    "# valid_texts = []\n",
    "# valid_categories = []\n",
    "\n",
    "# for train_id in train_ids:\n",
    "#     train_texts.append(texts[train_id])\n",
    "#     train_categories.append(categories[train_id])\n",
    "\n",
    "# for valid_id in valid_ids:\n",
    "#     valid_texts.append(texts[valid_id])\n",
    "#     valid_categories.append(categories[valid_id])\n",
    "    \n",
    "# print(\"Train Data Size: {}\".format(len(train_texts)))\n",
    "# print(\"Valid Data Size: {}\".format(len(valid_texts)))"
   ]
  },
  {
   "cell_type": "code",
   "execution_count": 17,
   "metadata": {},
   "outputs": [],
   "source": [
    "def write2file(texts, categories, target_file):\n",
    "    target_file = codecs.open(target_file, 'w', encoding='utf8')\n",
    "    for index, (text, category) in enumerate(zip(texts, categories)):\n",
    "        target_file.write(\"{}\\t{}\\t{}\\n\".format(index + 1, text, category))\n",
    "    target_file.close()"
   ]
  },
  {
   "cell_type": "code",
   "execution_count": 18,
   "metadata": {},
   "outputs": [],
   "source": [
    "write2file(train_texts, train_categories, './train.txt')\n",
    "write2file(valid_texts, valid_categories, './valid.txt')"
   ]
  },
  {
   "cell_type": "code",
   "execution_count": 19,
   "metadata": {},
   "outputs": [],
   "source": [
    "# target_file = codecs.open('test.txt', 'w', encoding='utf8')\n",
    "# with codecs.open('./SemEval2010_task8_testing/TEST_FILE.txt', 'r', encoding='utf8') as f, codecs.open('./SemEval2010_task8_testing_keys/TEST_FILE_KEY.TXT') as f1:\n",
    "#     for line, line1 in zip(f.readlines(), f1.readlines()):\n",
    "#         line = line.strip()\n",
    "#         items = line.split('\\t')\n",
    "        \n",
    "#         line1 = line1.strip()\n",
    "#         items1 = line1.split('\\t')\n",
    "        \n",
    "#         target_file.write('{}\\t{}\\t{}\\n'.format(items[0], process(items[1][1:-1]), items1[1]))"
   ]
  },
  {
   "cell_type": "code",
   "execution_count": 20,
   "metadata": {},
   "outputs": [],
   "source": [
    "train_file = codecs.open('./SemEval2010_task8_testing_keys/TEST_FILE_FULL.TXT', 'r', encoding='utf8')\n",
    "lines = train_file.readlines()\n",
    "texts = []\n",
    "categories = []\n",
    "\n",
    "for index, line in enumerate(lines):\n",
    "    if '\\t' in line:\n",
    "        line = line.strip()\n",
    "        text = line.split('\\t')[1][1:-1]\n",
    "        text = process(text)\n",
    "        category = lines[index + 1].strip()\n",
    "        texts.append(text)\n",
    "        categories.append(category)\n",
    "\n",
    "write2file(texts, categories, './test.txt')"
   ]
  },
  {
   "cell_type": "code",
   "execution_count": null,
   "metadata": {},
   "outputs": [],
   "source": []
  },
  {
   "cell_type": "code",
   "execution_count": null,
   "metadata": {},
   "outputs": [],
   "source": []
  }
 ],
 "metadata": {
  "kernelspec": {
   "display_name": "Python 2",
   "language": "python",
   "name": "python2"
  },
  "language_info": {
   "codemirror_mode": {
    "name": "ipython",
    "version": 2
   },
   "file_extension": ".py",
   "mimetype": "text/x-python",
   "name": "python",
   "nbconvert_exporter": "python",
   "pygments_lexer": "ipython2",
   "version": "2.7.12"
  }
 },
 "nbformat": 4,
 "nbformat_minor": 2
}
